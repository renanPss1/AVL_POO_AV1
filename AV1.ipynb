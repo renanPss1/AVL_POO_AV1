{
  "nbformat": 4,
  "nbformat_minor": 0,
  "metadata": {
    "colab": {
      "provenance": [],
      "include_colab_link": true
    },
    "kernelspec": {
      "name": "python3",
      "display_name": "Python 3"
    },
    "language_info": {
      "name": "python"
    }
  },
  "cells": [
    {
      "cell_type": "markdown",
      "metadata": {
        "id": "view-in-github",
        "colab_type": "text"
      },
      "source": [
        "<a href=\"https://colab.research.google.com/github/renanPss1/AVL_POO_AV1/blob/main/AV1.ipynb\" target=\"_parent\"><img src=\"https://colab.research.google.com/assets/colab-badge.svg\" alt=\"Open In Colab\"/></a>"
      ]
    },
    {
      "cell_type": "code",
      "source": [
        "#1\n",
        "while True:\n",
        "    numero = int(input(\"digite um número inteiro entre 1 e 10: \"))\n",
        "\n",
        "    if numero == 0:  # Opção para sair do loop\n",
        "        print(\"Saindo do gerador de tabuada.\")\n",
        "        break\n",
        "\n",
        "    if 1 <= numero <= 10:  # verifica se o número está dentro do intervalo\n",
        "        print(f\"Aqui está a tabuada do {numero}:\")\n",
        "        for i in range(1, 11):\n",
        "            resultado = numero * i  # resultado da multiplicação\n",
        "            print(f\"{numero} x {i} = {resultado}\")\n",
        "    else:\n",
        "        print(\"Por favor, digite um número válido entre 1 e 10.\")\n",
        "\n"
      ],
      "metadata": {
        "id": "yEARZdvOPwcc"
      },
      "execution_count": null,
      "outputs": []
    },
    {
      "cell_type": "code",
      "source": [
        "#2\n",
        "# contador\n",
        "quantidade_pares = 0\n",
        "quantidade_impares = 0\n",
        "\n",
        "#Loop para pedir 10 números\n",
        "for i in range(10):\n",
        "    # pede um numero ate 10\n",
        "    numero = int(input(f\"Digite o {i+1}º número inteiro: \"))\n",
        "\n",
        "    #checa se é par ou impa\n",
        "    if numero % 2 == 0:  #<- checa se é par\n",
        "        quantidade_pares += 1\n",
        "    else:\n",
        "        quantidade_impares += 1\n",
        "\n",
        "#Exibindo o resultado\n",
        "print(f\"Quantidade de números pares: {quantidade_pares}\")   #quantidade de pares\n",
        "print(f\"Quantidade de números ímpares: {quantidade_impares}\")  #quantidade de impares\n"
      ],
      "metadata": {
        "id": "NxBfdoyvgnYn"
      },
      "execution_count": null,
      "outputs": []
    },
    {
      "cell_type": "code",
      "source": [
        "#3\n",
        "numero = int(input(\"Digite um número inteiro: \"))\n",
        "\n",
        "#coloca o numero como verdadeiro\n",
        "eh_primo = True\n",
        "\n",
        "#testa se o numero é = ou menor a 1\n",
        "if numero <= 1:\n",
        "    eh_primo = False\n",
        "else:\n",
        "    #testa divisão\n",
        "    for i in range(2, int(numero ** 0.5) + 1):\n",
        "        if numero % i == 0:  #se dividir não é primo irar acusar como falso\n",
        "            eh_primo = False\n",
        "            break  #mesma coisa que stop\n",
        "\n",
        "#visão do input\n",
        "if eh_primo:\n",
        "    print(f\"{numero} é um número primo.\")\n",
        "else:\n",
        "    print(f\"{numero} não é um número primo.\")\n"
      ],
      "metadata": {
        "id": "QiWyfbfugp8d"
      },
      "execution_count": null,
      "outputs": []
    },
    {
      "cell_type": "code",
      "source": [
        "#4\n",
        "# calculo\n",
        "populacaoA = 80000\n",
        "populacaoB = 200000\n",
        "taxaCrescimentoA = 0.03  #taxa anual do país A 3%\n",
        "taxaCrescimentoB = 0.015  #taxa anual do país B 1.5%\n",
        "#contador de tempo inical\n",
        "anos = 0\n",
        "\n",
        "#loop crescimento\n",
        "while populacaoA < populacaoB:  #enquanto a for menor que b\n",
        "    populacaoA += populacaoA * taxaCrescimentoA  #atualiza a população do país a\n",
        "    populacaoB += populacaoB * taxaCrescimentoB  #atualiza a população do país b\n",
        "\n",
        "    anos += 1  #contador de anos\n",
        "\n",
        "#mensagem de resultado\n",
        "print(\"A população do país A vai ultrapassar a população do país B em anos:\")\n",
        "print(anos)  #tempo em ano\n"
      ],
      "metadata": {
        "id": "1ls0s1KBg0Jz"
      },
      "execution_count": null,
      "outputs": []
    },
    {
      "cell_type": "code",
      "source": [
        "#5\n",
        "preco = 1.99  #preço item\n",
        "\n",
        "#tabela de preços\n",
        "print(\"• Lojas - Tabela de Preços\")\n",
        "for i in range(1, 51):  # de1 a 50 itens\n",
        "    total = i * preco  #calcula o total\n",
        "    print(f\"{i} - R$ {total:.2f}\")  #imprime o número de itens\n",
        "\n",
        "\n",
        "quantidade = input(\"Digite a quantidade de itens: \")  #quantidade de itens\n",
        "quantidade = int(quantidade)  #converte a entrada para inteiro\n",
        "valor_total = quantidade * preco  #calcula o valor total\n",
        "print(f\"total a pagar por {quantidade} itens é: R$ {valor_total:.2f}\")  #imprime o total\n"
      ],
      "metadata": {
        "id": "rk9XWkmGhhai",
        "outputId": "c18d1e33-e6d3-4af7-eedc-b2542a496713",
        "colab": {
          "base_uri": "https://localhost:8080/"
        }
      },
      "execution_count": 1,
      "outputs": [
        {
          "output_type": "stream",
          "name": "stdout",
          "text": [
            "• Lojas - Tabela de Preços\n",
            "1 - R$ 1.99\n",
            "2 - R$ 3.98\n",
            "3 - R$ 5.97\n",
            "4 - R$ 7.96\n",
            "5 - R$ 9.95\n",
            "6 - R$ 11.94\n",
            "7 - R$ 13.93\n",
            "8 - R$ 15.92\n",
            "9 - R$ 17.91\n",
            "10 - R$ 19.90\n",
            "11 - R$ 21.89\n",
            "12 - R$ 23.88\n",
            "13 - R$ 25.87\n",
            "14 - R$ 27.86\n",
            "15 - R$ 29.85\n",
            "16 - R$ 31.84\n",
            "17 - R$ 33.83\n",
            "18 - R$ 35.82\n",
            "19 - R$ 37.81\n",
            "20 - R$ 39.80\n",
            "21 - R$ 41.79\n",
            "22 - R$ 43.78\n",
            "23 - R$ 45.77\n",
            "24 - R$ 47.76\n",
            "25 - R$ 49.75\n",
            "26 - R$ 51.74\n",
            "27 - R$ 53.73\n",
            "28 - R$ 55.72\n",
            "29 - R$ 57.71\n",
            "30 - R$ 59.70\n",
            "31 - R$ 61.69\n",
            "32 - R$ 63.68\n",
            "33 - R$ 65.67\n",
            "34 - R$ 67.66\n",
            "35 - R$ 69.65\n",
            "36 - R$ 71.64\n",
            "37 - R$ 73.63\n",
            "38 - R$ 75.62\n",
            "39 - R$ 77.61\n",
            "40 - R$ 79.60\n",
            "41 - R$ 81.59\n",
            "42 - R$ 83.58\n",
            "43 - R$ 85.57\n",
            "44 - R$ 87.56\n",
            "45 - R$ 89.55\n",
            "46 - R$ 91.54\n",
            "47 - R$ 93.53\n",
            "48 - R$ 95.52\n",
            "49 - R$ 97.51\n",
            "50 - R$ 99.50\n",
            "Digite a quantidade de itens: 4\n",
            "total a pagar por 4 itens é: R$ 7.96\n"
          ]
        }
      ]
    },
    {
      "cell_type": "code",
      "source": [
        "#6\n",
        "#dados iniciais\n",
        "salario = 1000.00  #salário inicial\n",
        "ano = 1995  # ano de contratação\n",
        "ano_final = 2025  #ano final\n",
        "aumento1 = 0.015  #aumento de 1,5% em 1996\n",
        "\n",
        "salario_final = salario  #salário atual\n",
        "\n",
        "#aumento de 1996\n",
        "salario_final += salario_final * aumento1  #aplica aumento\n",
        "\n",
        "#aumentos de 1997 em diante\n",
        "aumento = aumento1 * 2  #novo aumento\n",
        "for i in range(1997, ano_final + 1):  #loop pelos anos\n",
        "    salario_final += salario_final * aumento  #aplica aumento\n",
        "    aumento *= 2  #dobra o aumento\n",
        "\n",
        "#exibe resultado\n",
        "print(\"Salário em 2025: R$\", round(salario_final, 2))  #mostra salário final\n"
      ],
      "metadata": {
        "id": "9wSCx9uniCcw"
      },
      "execution_count": null,
      "outputs": []
    },
    {
      "cell_type": "code",
      "source": [
        "#7\n",
        "#tabela de juros\n",
        "quantidade_parcelas = [1, 3, 6, 9, 12]  #numero de parcelas\n",
        "juros_por_parcela = [0, 10, 15, 20, 25]  #juros em porcentagem\n",
        "\n",
        "#input-valor da dívida\n",
        "divida = float(input(\"Digite o valor da dívida: R$ \"))  #valor da dívida\n",
        "\n",
        "#Cabeçalho da tabela\n",
        "print(\"\\nDívida\\t\\t| Juros | Parcelas | Valor da Parcela\")\n",
        "print(\"-\" * 40)  # linha separadora\n",
        "\n",
        "#Calcula e exibe a tabela\n",
        "for i in range(len(quantidade_parcelas)):\n",
        "    parcelas = quantidade_parcelas[i]  #número de parcelas\n",
        "    juros = juros_por_parcela[i]  #percentual de juros\n",
        "\n",
        "    valor_juros = (divida * juros) / 100  #calcula os juros\n",
        "    valor_total = divida + valor_juros  # total com juros\n",
        "    valor_parcela = valor_total / parcelas  #valor de cada parcela\n",
        "\n",
        "    # Mostra os resultados\n",
        "    print(f\"R$ {valor_total:.2f}\\t| {juros}\\t| {parcelas}\\t| R$ {valor_parcela:.2f}\")\n"
      ],
      "metadata": {
        "id": "gZGP_c-klEjQ"
      },
      "execution_count": null,
      "outputs": []
    },
    {
      "cell_type": "code",
      "source": [
        "#8\n",
        "gabarito = ['A', 'B', 'C', 'D', 'E', 'E', 'D', 'C', 'B', 'A']\n",
        "notas_alunos = []\n",
        "maior_acerto = 0\n",
        "menor_acerto = 10  # Inicializa com o valor máximo de acertos\n",
        "total_alunos = 0\n",
        "\n",
        "while True:\n",
        "    total_alunos += 1\n",
        "    acerto = 0\n",
        "    print('Digite sua resposta:')\n",
        "\n",
        "    for i in range(10):  # Loop para 10 questões\n",
        "        resposta = input(f'Questão {i + 1}: ').upper()  # Converte a resposta para maiúscula\n",
        "        if resposta == gabarito[i]:\n",
        "            acerto += 1\n",
        "\n",
        "    notas_alunos.append(acerto)  # Armazena os acertos de cada aluno\n",
        "\n",
        "    # Atualiza o maior e menor número de acertos\n",
        "    if acerto > maior_acerto:\n",
        "        maior_acerto = acerto\n",
        "    if acerto < menor_acerto:\n",
        "        menor_acerto = acerto\n",
        "\n",
        "    continuar = input(\"Outro aluno vai utilizar o sistema? (s/n): \").lower()\n",
        "    if continuar != 's':\n",
        "        break\n",
        "\n",
        "# Calcula a média das notas da turma\n",
        "media_notas = sum(notas_alunos) / total_alunos if total_alunos > 0 else 0\n",
        "\n",
        "# Exibe os resultados finais\n",
        "print(\"\\nResultados Finais:\")\n",
        "print(f\"Maior Acerto: {maior_acerto}\")\n",
        "print(f\"Menor Acerto: {menor_acerto}\")\n",
        "print(f\"Total de Alunos: {total_alunos}\")\n",
        "print(f\"Média das Notas da Turma: {media_notas:.2f}\")"
      ],
      "metadata": {
        "id": "UKCIDhLPn6rG"
      },
      "execution_count": null,
      "outputs": []
    }
  ]
}